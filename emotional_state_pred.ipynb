{
  "nbformat": 4,
  "nbformat_minor": 0,
  "metadata": {
    "colab": {
      "provenance": []
    },
    "kernelspec": {
      "name": "python3",
      "display_name": "Python 3"
    },
    "language_info": {
      "name": "python"
    }
  },
  "cells": [
    {
      "cell_type": "code",
      "execution_count": 1,
      "metadata": {
        "colab": {
          "base_uri": "https://localhost:8080/"
        },
        "id": "SftDXu4cT2yU",
        "outputId": "a0b16003-7a0e-4219-cbe3-ad243d64abe6"
      },
      "outputs": [
        {
          "output_type": "stream",
          "name": "stdout",
          "text": [
            "Mounted at /content/drive\n"
          ]
        }
      ],
      "source": [
        "from google.colab import drive\n",
        "drive.mount('/content/drive')"
      ]
    },
    {
      "cell_type": "code",
      "source": [
        "! cd /content/drive/MyDrive/hw/data/video-features && ls"
      ],
      "metadata": {
        "colab": {
          "base_uri": "https://localhost:8080/"
        },
        "id": "APy_BWy-Uqql",
        "outputId": "de3595e4-9dfc-46e6-8d7e-8c7f52a4b048"
      },
      "execution_count": 2,
      "outputs": [
        {
          "output_type": "stream",
          "name": "stdout",
          "text": [
            "12mo-baby.pkl  6mo-baby.pkl  all_audio-2.npy  all_mom-2.npy  clean_audio.pkl\n",
            "12mo-mom.pkl   6mo-mom.pkl   all_baby-2.npy   all_y.npy      mental_health.csv\n"
          ]
        }
      ]
    },
    {
      "cell_type": "code",
      "source": [
        "import pandas as pd\n",
        "import numpy as np\n",
        "import random\n",
        "import pickle\n",
        "import tensorflow as tf\n",
        "from tensorflow.keras.models import Model\n",
        "from tensorflow.keras.layers import Input, Dense, Dropout, concatenate, BatchNormalization, GRU, Activation, LSTM\n",
        "from tensorflow.keras import regularizers\n",
        "from sklearn.preprocessing import MinMaxScaler, StandardScaler\n",
        "from sklearn.metrics import confusion_matrix\n",
        "import matplotlib.pyplot as plt\n",
        "import seaborn as sns\n",
        "\n",
        "random.seed(42)"
      ],
      "metadata": {
        "id": "Nv5s1NwdU8EW"
      },
      "execution_count": 166,
      "outputs": []
    },
    {
      "cell_type": "code",
      "source": [
        "DATA_DIR = \"/content/drive/MyDrive/hw/data/video-features\"\n",
        "Y_data = \"mental_health.csv\"\n",
        "mom_12 = \"12mo-mom.pkl\"\n",
        "mom_6 = \"6mo-mom.pkl\"\n",
        "baby_12 = \"12mo-baby.pkl\"\n",
        "baby_6 = \"6mo-baby.pkl\"\n",
        "audio = \"clean_audio.pkl\"\n",
        "\n"
      ],
      "metadata": {
        "id": "e0MYTmMXUJvB"
      },
      "execution_count": 4,
      "outputs": []
    },
    {
      "cell_type": "code",
      "source": [
        "# dtypes = list(zip(dataframe.dtypes.index, map(str, dataframe.dtypes)))\n",
        "#     # Normalize numeric columns.\n",
        "#     for column, dtype in dtypes:\n",
        "#         if dtype == 'float32':\n",
        "#             dataframe[column] -= dataframe[column].mean()\n",
        "#             dataframe[column] /= dataframe[column].std()"
      ],
      "metadata": {
        "id": "uR0VUa5ZTRKt"
      },
      "execution_count": null,
      "outputs": []
    },
    {
      "cell_type": "code",
      "source": [
        "def load_data(file):\n",
        "  with open(DATA_DIR+\"/\"+file, \"rb\") as f:\n",
        "    return pickle.load(f)"
      ],
      "metadata": {
        "id": "Acjpqss0VCBW"
      },
      "execution_count": 5,
      "outputs": []
    },
    {
      "cell_type": "code",
      "source": [
        "mom_12 = load_data(mom_12)\n",
        "mom_6 = load_data(mom_6)\n",
        "baby_12 = load_data(baby_12)\n",
        "baby_6 = load_data(baby_6)\n",
        "all_audio = load_data(audio)"
      ],
      "metadata": {
        "id": "Adtbcc15VRsx"
      },
      "execution_count": 6,
      "outputs": []
    },
    {
      "cell_type": "code",
      "source": [
        "all_y = pd.read_csv(DATA_DIR+\"/\"+Y_data)"
      ],
      "metadata": {
        "id": "qpSmT1z_VYO_"
      },
      "execution_count": 7,
      "outputs": []
    },
    {
      "cell_type": "code",
      "source": [
        "print(len(baby_12) + len(baby_6))"
      ],
      "metadata": {
        "colab": {
          "base_uri": "https://localhost:8080/"
        },
        "id": "e51F5uUnVgOu",
        "outputId": "1750ad41-c953-4b24-8e89-6cbea6c46fd8"
      },
      "execution_count": 8,
      "outputs": [
        {
          "output_type": "stream",
          "name": "stdout",
          "text": [
            "257\n"
          ]
        }
      ]
    },
    {
      "cell_type": "code",
      "source": [
        "print(len(mom_12) + len(mom_6))"
      ],
      "metadata": {
        "colab": {
          "base_uri": "https://localhost:8080/"
        },
        "id": "p7gVxSTIVxKl",
        "outputId": "5908c3a0-1032-4d14-d2be-3e463c47345c"
      },
      "execution_count": 9,
      "outputs": [
        {
          "output_type": "stream",
          "name": "stdout",
          "text": [
            "243\n"
          ]
        }
      ]
    },
    {
      "cell_type": "code",
      "source": [
        "audio_data_12 = all_audio[all_audio['month'] == '12']\n",
        "audio_data_6 = all_audio[all_audio['month'] == '6']"
      ],
      "metadata": {
        "id": "1Xoevi4-8x0b"
      },
      "execution_count": 10,
      "outputs": []
    },
    {
      "cell_type": "code",
      "source": [
        "print(len(audio_data_12),len(audio_data_6))"
      ],
      "metadata": {
        "colab": {
          "base_uri": "https://localhost:8080/"
        },
        "id": "urfWvVqX8zQW",
        "outputId": "1c9d2261-5038-4180-d3f5-21823c03f23e"
      },
      "execution_count": 11,
      "outputs": [
        {
          "output_type": "stream",
          "name": "stdout",
          "text": [
            "124 142\n"
          ]
        }
      ]
    },
    {
      "cell_type": "code",
      "source": [
        "def filter_data(mom_df, baby_df):\n",
        "  # Identify IDs unique to mom and baby\n",
        "  mom_unique_ids = set(mom_df['id']) - set(baby_df['id'])\n",
        "  baby_unique_ids = set(baby_df['id']) - set(mom_df['id'])\n",
        "\n",
        "  # Drop rows with unique IDs from mom and baby\n",
        "  mom_filtered = mom_df[~mom_df['id'].isin(mom_unique_ids)]\n",
        "  baby_filtered = baby_df[~baby_df['id'].isin(baby_unique_ids)]\n",
        "  return mom_filtered, baby_filtered"
      ],
      "metadata": {
        "id": "3JqK46SqaaXF"
      },
      "execution_count": 12,
      "outputs": []
    },
    {
      "cell_type": "code",
      "source": [
        "def filter_data_audio(mom_df, audio_df):\n",
        "  # Identify IDs unique to mom and baby\n",
        "  mom_unique_ids = set(mom_df['id']) - set(audio_df['mom_id'])\n",
        "  baby_unique_ids = set(audio_df['mom_id']) - set(mom_df['id'])\n",
        "\n",
        "  # Drop rows with unique IDs from mom and baby\n",
        "  mom_filtered = mom_df[~mom_df['id'].isin(mom_unique_ids)]\n",
        "  baby_filtered = audio_df[~audio_df['mom_id'].isin(baby_unique_ids)]\n",
        "  return mom_filtered, baby_filtered"
      ],
      "metadata": {
        "id": "23nfYHz_9Bta"
      },
      "execution_count": 13,
      "outputs": []
    },
    {
      "cell_type": "code",
      "source": [
        "mom_12, baby_12 = filter_data(mom_12, baby_12)\n",
        "mom_6, baby_6 = filter_data(mom_6, baby_6)"
      ],
      "metadata": {
        "id": "mUpse94O-ffg"
      },
      "execution_count": 14,
      "outputs": []
    },
    {
      "cell_type": "code",
      "source": [
        "print(len(mom_12) + len(mom_6))\n",
        "print(len(baby_12) + len(baby_6))"
      ],
      "metadata": {
        "colab": {
          "base_uri": "https://localhost:8080/"
        },
        "id": "fXdUe-pE-kyC",
        "outputId": "a5fe0497-dbac-444d-8066-42f7e2f3c5d3"
      },
      "execution_count": 15,
      "outputs": [
        {
          "output_type": "stream",
          "name": "stdout",
          "text": [
            "239\n",
            "240\n"
          ]
        }
      ]
    },
    {
      "cell_type": "code",
      "source": [
        "unique_ids =  set(audio_data_12['mom_id']) - set(mom_12['id'])\n",
        "unique_ids\n",
        "audio_data_12 = audio_data_12[~audio_data_12['mom_id'].isin(unique_ids)]"
      ],
      "metadata": {
        "id": "T9V1VZb7-zLK"
      },
      "execution_count": 16,
      "outputs": []
    },
    {
      "cell_type": "code",
      "source": [
        "unique_ids =  set(audio_data_6['mom_id']) - set(mom_6['id'])\n",
        "unique_ids\n",
        "audio_data_6 = audio_data_6[~audio_data_6['mom_id'].isin(unique_ids)]"
      ],
      "metadata": {
        "id": "8PkX7jQo_clK"
      },
      "execution_count": 17,
      "outputs": []
    },
    {
      "cell_type": "code",
      "source": [
        "mom_12, audio_12 = filter_data_audio(mom_12, audio_data_12)\n",
        "mom_6, audio_6 = filter_data_audio(mom_6, audio_data_6)"
      ],
      "metadata": {
        "id": "jD8JV4Ud9K_o"
      },
      "execution_count": 18,
      "outputs": []
    },
    {
      "cell_type": "code",
      "source": [
        "print(len(audio_12),len(audio_6))"
      ],
      "metadata": {
        "colab": {
          "base_uri": "https://localhost:8080/"
        },
        "id": "hmIj6tJC9Qxd",
        "outputId": "dc83631e-9672-4462-9255-9b30c149902c"
      },
      "execution_count": 19,
      "outputs": [
        {
          "output_type": "stream",
          "name": "stdout",
          "text": [
            "101 121\n"
          ]
        }
      ]
    },
    {
      "cell_type": "code",
      "source": [
        "mom_12, baby_12 = filter_data(mom_12, baby_12)\n",
        "mom_6, baby_6 = filter_data(mom_6, baby_6)"
      ],
      "metadata": {
        "id": "24iG0y6o3rJ-"
      },
      "execution_count": 20,
      "outputs": []
    },
    {
      "cell_type": "code",
      "source": [
        "print(len(mom_12) + len(mom_6))\n",
        "print(len(baby_12) + len(baby_6))"
      ],
      "metadata": {
        "colab": {
          "base_uri": "https://localhost:8080/"
        },
        "id": "RihoM_qm_wRC",
        "outputId": "a751cb8c-9b49-42b1-c013-4e24c8005375"
      },
      "execution_count": 21,
      "outputs": [
        {
          "output_type": "stream",
          "name": "stdout",
          "text": [
            "220\n",
            "221\n"
          ]
        }
      ]
    },
    {
      "cell_type": "code",
      "source": [
        "unique_ids =   set(mom_12['id']) - set(audio_data_12['mom_id'])\n",
        "unique_ids"
      ],
      "metadata": {
        "colab": {
          "base_uri": "https://localhost:8080/"
        },
        "id": "581jKB8X_8AX",
        "outputId": "a3e23f11-6aaa-4a00-a05d-34dabc173654"
      },
      "execution_count": 22,
      "outputs": [
        {
          "output_type": "execute_result",
          "data": {
            "text/plain": [
              "set()"
            ]
          },
          "metadata": {},
          "execution_count": 22
        }
      ]
    },
    {
      "cell_type": "code",
      "source": [
        "unique_ids =   set(mom_6['id']) - set(audio_data_6['mom_id'])\n",
        "unique_ids"
      ],
      "metadata": {
        "colab": {
          "base_uri": "https://localhost:8080/"
        },
        "id": "_vGZocIK_8l3",
        "outputId": "7c88b4db-3c4d-4ac1-933e-773ea3fc0f2e"
      },
      "execution_count": 23,
      "outputs": [
        {
          "output_type": "execute_result",
          "data": {
            "text/plain": [
              "set()"
            ]
          },
          "metadata": {},
          "execution_count": 23
        }
      ]
    },
    {
      "cell_type": "code",
      "source": [
        "baby_12 = baby_12.drop_duplicates(subset='id', keep='first')\n",
        "audio_12 = audio_12.drop_duplicates(subset='mom_id', keep='first')\n",
        "audio_6 = audio_6.drop_duplicates(subset='mom_id', keep='first')"
      ],
      "metadata": {
        "id": "gryGwW37crhf"
      },
      "execution_count": 24,
      "outputs": []
    },
    {
      "cell_type": "code",
      "source": [
        "# match rows\n",
        "baby_12 = baby_12.set_index('id').loc[mom_12['id'].tolist()].reset_index()\n",
        "baby_6 = baby_6.set_index('id').loc[mom_6['id'].tolist()].reset_index()\n",
        "audio_12 = audio_12.set_index('mom_id').loc[mom_12['id'].tolist()].reset_index()\n",
        "audio_6 = audio_6.set_index('mom_id').loc[mom_6['id'].tolist()].reset_index()"
      ],
      "metadata": {
        "id": "PZNWegVtdlIw"
      },
      "execution_count": 25,
      "outputs": []
    },
    {
      "cell_type": "code",
      "source": [
        "all_mom = pd.concat([mom_12, mom_6], ignore_index=True)\n",
        "all_baby = pd.concat([baby_12, baby_6], ignore_index=True)\n",
        "all_audio = pd.concat([audio_12, audio_6], ignore_index=True)"
      ],
      "metadata": {
        "id": "eP7GtZ0Cea07"
      },
      "execution_count": 26,
      "outputs": []
    },
    {
      "cell_type": "code",
      "source": [
        "print(len(all_mom), len(all_baby), len(all_audio))"
      ],
      "metadata": {
        "colab": {
          "base_uri": "https://localhost:8080/"
        },
        "id": "lYWcOhiWAiHL",
        "outputId": "befebb3a-7708-4628-f2fb-90a47b139ef4"
      },
      "execution_count": 27,
      "outputs": [
        {
          "output_type": "stream",
          "name": "stdout",
          "text": [
            "220 220 220\n"
          ]
        }
      ]
    },
    {
      "cell_type": "code",
      "source": [
        "Y = []\n",
        "for i in range(len(all_mom)):\n",
        "  row = all_mom.iloc[i]\n",
        "  id = row['id']\n",
        "  month = row['month']\n",
        "  phq = all_y[(all_y['id'] == id) & (all_y['month'] == month)]['phq']\n",
        "  phq = phq.values[0]\n",
        "  if phq <= 4.0:\n",
        "    Y.append(0)\n",
        "  elif phq <= 9.0:\n",
        "    Y.append(1)\n",
        "  elif phq <= 14.0:\n",
        "    Y.append(2)\n",
        "  elif phq <= 19.0:\n",
        "    Y.append(3)\n",
        "  else:\n",
        "    Y.append(4)"
      ],
      "metadata": {
        "id": "BW9SUYZ1h2lM"
      },
      "execution_count": 28,
      "outputs": []
    },
    {
      "cell_type": "code",
      "source": [
        "Y = np.array(Y)"
      ],
      "metadata": {
        "id": "V0PBAASIAyJv"
      },
      "execution_count": 29,
      "outputs": []
    },
    {
      "cell_type": "code",
      "source": [
        "np.save('all_y.npy', Y)"
      ],
      "metadata": {
        "id": "LH0EaYxk54pV"
      },
      "execution_count": 44,
      "outputs": []
    },
    {
      "cell_type": "code",
      "source": [
        "np.unique(Y, return_counts=True)"
      ],
      "metadata": {
        "colab": {
          "base_uri": "https://localhost:8080/"
        },
        "id": "pv5hajZ55gr1",
        "outputId": "15da6127-5b41-40aa-be8b-d959c8cd5070"
      },
      "execution_count": 30,
      "outputs": [
        {
          "output_type": "execute_result",
          "data": {
            "text/plain": [
              "(array([0, 1, 2, 3, 4]), array([151,  47,  15,   4,   3]))"
            ]
          },
          "metadata": {},
          "execution_count": 30
        }
      ]
    },
    {
      "cell_type": "code",
      "source": [
        "all_mom.shape"
      ],
      "metadata": {
        "colab": {
          "base_uri": "https://localhost:8080/"
        },
        "id": "kiTeHKp3my4e",
        "outputId": "b0bbe662-ef9a-40a5-8397-33ba1de12be2"
      },
      "execution_count": 30,
      "outputs": [
        {
          "output_type": "execute_result",
          "data": {
            "text/plain": [
              "(220, 14)"
            ]
          },
          "metadata": {},
          "execution_count": 30
        }
      ]
    },
    {
      "cell_type": "code",
      "source": [
        "all_baby.shape"
      ],
      "metadata": {
        "colab": {
          "base_uri": "https://localhost:8080/"
        },
        "id": "4K_8Drn--Ila",
        "outputId": "47f0003c-d38c-482c-c07d-70f23e43aa44"
      },
      "execution_count": 143,
      "outputs": [
        {
          "output_type": "execute_result",
          "data": {
            "text/plain": [
              "(220, 14)"
            ]
          },
          "metadata": {},
          "execution_count": 143
        }
      ]
    },
    {
      "cell_type": "code",
      "source": [
        "all_audio.shape"
      ],
      "metadata": {
        "colab": {
          "base_uri": "https://localhost:8080/"
        },
        "id": "5ATDBBYUA27N",
        "outputId": "74eecdd8-3efe-4b7f-fb68-f4adfe857c13"
      },
      "execution_count": 144,
      "outputs": [
        {
          "output_type": "execute_result",
          "data": {
            "text/plain": [
              "(220, 7)"
            ]
          },
          "metadata": {},
          "execution_count": 144
        }
      ]
    },
    {
      "cell_type": "code",
      "source": [
        "def balance_data(X, Y, value, update_Y=False, many=100, noise_mean=0, noise_std=0.1):\n",
        "    # Get the indices where Y equals the specified value\n",
        "    X = X.copy()\n",
        "    Y = Y.copy()\n",
        "    indices = np.where(Y == value)[0]\n",
        "    count = 0\n",
        "    #noise = np.random.normal(loc=noise_mean, scale=noise_std, size=(X.shape[1], X.shape[2]))\n",
        "    while True:\n",
        "      # create synthetic data\n",
        "      for idx in indices:\n",
        "        duplicated_row = np.expand_dims(X[idx], axis=0)\n",
        "        X = np.concatenate((X, duplicated_row), axis=0)\n",
        "        # add gaussian noise to data\n",
        "        # creates more data and also increases model robustness\n",
        "        noise = np.random.normal(loc=noise_mean, scale=noise_std, size=(duplicated_row.shape[1], duplicated_row.shape[2]))\n",
        "        noisy_row = X[-1] + noise\n",
        "        X[-1] = noisy_row\n",
        "\n",
        "        # Append the specified value to Y if update_Y is True\n",
        "        if update_Y:\n",
        "          Y = np.append(Y, value)\n",
        "\n",
        "        count += 1\n",
        "      if count >= many:\n",
        "        break\n",
        "    return X, Y"
      ],
      "metadata": {
        "id": "pHPvfjGMXXPu"
      },
      "execution_count": 31,
      "outputs": []
    },
    {
      "cell_type": "code",
      "source": [
        "dtypes = list(zip(all_audio.dtypes.index, map(str, all_audio.dtypes)))\n",
        "dtypes"
      ],
      "metadata": {
        "colab": {
          "base_uri": "https://localhost:8080/"
        },
        "id": "Y3D3j9hVXEiq",
        "outputId": "1e95572a-bbf3-41cf-c364-4aab4eb1accf"
      },
      "execution_count": 57,
      "outputs": [
        {
          "output_type": "execute_result",
          "data": {
            "text/plain": [
              "[('mom_id', 'int64'),\n",
              " ('month', 'object'),\n",
              " ('total_seconds', 'float64'),\n",
              " ('interval_size', 'int64'),\n",
              " ('pitches', 'object'),\n",
              " ('pitch_ranges', 'object'),\n",
              " ('speech_rates', 'object')]"
            ]
          },
          "metadata": {},
          "execution_count": 57
        }
      ]
    },
    {
      "cell_type": "code",
      "source": [
        "columns = ['AU01_r', 'AU04_r', 'AU05_r', 'AU06_r', 'AU07_r', 'AU09_r', 'AU10_r', 'AU12_r', 'AU23_r', 'AU25_r', 'AU26_r']\n",
        "\n",
        "def data_preprocessing(df):\n",
        "  np_array = np.empty((220, 180, 11))\n",
        "  for i in range(len(df)):\n",
        "    row = df.iloc[i]\n",
        "    dict_row = row.to_dict()\n",
        "    data_frame = pd.DataFrame(dict_row)\n",
        "    # drop id, frame and month\n",
        "    arr = data_frame.filter(columns)\n",
        "    for column in columns:\n",
        "      if arr[column].isna().any():\n",
        "        col_mean = arr[column].mean(skipna=True)\n",
        "        arr[column].fillna(col_mean, inplace=True)\n",
        "    scaled_data = arr.values\n",
        "    # Check if the number of columns after scaling is greater than 180\n",
        "    if scaled_data.shape[0] > 180:\n",
        "      scaled_data = scaled_data[:180, :]\n",
        "    elif scaled_data.shape[0] < 180:\n",
        "      # Pad data with zeros if less than 180 rows\n",
        "      pad_width = 180 - scaled_data.shape[0]\n",
        "      scaled_data = np.pad(scaled_data, ((0, pad_width), (0, 0)), mode='constant', constant_values=0)\n",
        "    np_array[i] = scaled_data\n",
        "  return np_array"
      ],
      "metadata": {
        "id": "MihHg1HbpcrR"
      },
      "execution_count": 95,
      "outputs": []
    },
    {
      "cell_type": "code",
      "source": [
        "columns_audio = ['pitches', 'pitch_ranges', 'speech_rates']\n",
        "#columns_audio = ['pitches', 'pitch_ranges']\n",
        "\n",
        "def data_preprocessing_audio(df):\n",
        "  np_array = np.empty((220, 180, 3))\n",
        "  for i in range(len(df)):\n",
        "    row = df.iloc[i]\n",
        "    if len(row['speech_rates']) < len(row['pitches']):\n",
        "      row['speech_rates'].append(0)  # Append a value to match the length of other columns\n",
        "    dict_row = row.to_dict()\n",
        "    data_frame = pd.DataFrame(dict_row)\n",
        "    # drop id, month, total_second, interval_size, and unnamed\n",
        "    arr = data_frame.filter(columns_audio)\n",
        "    scaled_data = arr.values\n",
        "    # Check if the number of columns after scaling is greater than 180\n",
        "    if scaled_data.shape[0] > 180:\n",
        "      # crop\n",
        "      scaled_data = scaled_data[:180, :]\n",
        "    elif scaled_data.shape[0] < 180:\n",
        "    # Pad with zeros to achieve 180 columns\n",
        "      pad_width = 180 - scaled_data.shape[0]\n",
        "      scaled_data = np.pad(scaled_data, ((0, pad_width), (0, 0)), mode='constant', constant_values=0)\n",
        "    np_array[i] = scaled_data\n",
        "  return np_array"
      ],
      "metadata": {
        "id": "PSHaHfqFA6di"
      },
      "execution_count": 53,
      "outputs": []
    },
    {
      "cell_type": "code",
      "source": [
        "data_frame = pd.DataFrame(all_audio.iloc[0].to_dict())\n",
        "dtypes = list(zip(data_frame.dtypes.index, map(str, data_frame.dtypes)))\n",
        "dtypes"
      ],
      "metadata": {
        "colab": {
          "base_uri": "https://localhost:8080/"
        },
        "id": "LKjJBJfk7Yc0",
        "outputId": "8735956b-cb30-42fc-821b-c881324a4775"
      },
      "execution_count": 38,
      "outputs": [
        {
          "output_type": "execute_result",
          "data": {
            "text/plain": [
              "[('mom_id', 'int64'),\n",
              " ('month', 'object'),\n",
              " ('total_seconds', 'float64'),\n",
              " ('interval_size', 'int64'),\n",
              " ('pitches', 'float64'),\n",
              " ('pitch_ranges', 'float64'),\n",
              " ('speech_rates', 'float64')]"
            ]
          },
          "metadata": {},
          "execution_count": 38
        }
      ]
    },
    {
      "cell_type": "code",
      "source": [
        "X_mom = data_preprocessing(all_mom)\n",
        "X_baby = data_preprocessing(all_baby)\n",
        "X_audio = data_preprocessing_audio(all_audio)"
      ],
      "metadata": {
        "id": "aR44SmTYz84w"
      },
      "execution_count": 117,
      "outputs": []
    },
    {
      "cell_type": "code",
      "source": [
        "np.save('all_mom.npy', X_mom)\n",
        "np.save('all_baby.npy', X_baby)\n",
        "np.save('all_audio.npy', X_audio)"
      ],
      "metadata": {
        "id": "IIihI5bT6nav"
      },
      "execution_count": 53,
      "outputs": []
    },
    {
      "cell_type": "code",
      "source": [
        "np.any(np.isnan(X_mom))"
      ],
      "metadata": {
        "colab": {
          "base_uri": "https://localhost:8080/"
        },
        "id": "baM27VqSiaQl",
        "outputId": "afaf5e30-dbb2-4f8f-ef91-66533552dcd5"
      },
      "execution_count": 118,
      "outputs": [
        {
          "output_type": "execute_result",
          "data": {
            "text/plain": [
              "False"
            ]
          },
          "metadata": {},
          "execution_count": 118
        }
      ]
    },
    {
      "cell_type": "code",
      "source": [
        "Y.shape"
      ],
      "metadata": {
        "colab": {
          "base_uri": "https://localhost:8080/"
        },
        "id": "X1IcoeXB8m0K",
        "outputId": "0cb7e013-9ed9-4859-d76a-ec0edb92d90a"
      },
      "execution_count": 119,
      "outputs": [
        {
          "output_type": "execute_result",
          "data": {
            "text/plain": [
              "(220,)"
            ]
          },
          "metadata": {},
          "execution_count": 119
        }
      ]
    },
    {
      "cell_type": "code",
      "source": [
        "X_baby.shape"
      ],
      "metadata": {
        "colab": {
          "base_uri": "https://localhost:8080/"
        },
        "id": "xNAu55HJDq8k",
        "outputId": "e9459ac3-7198-4784-8a8c-c4bbb5f51763"
      },
      "execution_count": 120,
      "outputs": [
        {
          "output_type": "execute_result",
          "data": {
            "text/plain": [
              "(220, 180, 11)"
            ]
          },
          "metadata": {},
          "execution_count": 120
        }
      ]
    },
    {
      "cell_type": "code",
      "source": [
        "X_audio.shape"
      ],
      "metadata": {
        "colab": {
          "base_uri": "https://localhost:8080/"
        },
        "id": "CDleAscBFQYv",
        "outputId": "7e0807b5-55e9-4c42-e337-90aaf0a2f580"
      },
      "execution_count": 121,
      "outputs": [
        {
          "output_type": "execute_result",
          "data": {
            "text/plain": [
              "(220, 180, 3)"
            ]
          },
          "metadata": {},
          "execution_count": 121
        }
      ]
    },
    {
      "cell_type": "code",
      "source": [
        "X_mom.shape"
      ],
      "metadata": {
        "colab": {
          "base_uri": "https://localhost:8080/"
        },
        "id": "TbgGcJdaFTht",
        "outputId": "fe31f3cb-055f-4d3b-f482-b20cfeda95cd"
      },
      "execution_count": 122,
      "outputs": [
        {
          "output_type": "execute_result",
          "data": {
            "text/plain": [
              "(220, 180, 11)"
            ]
          },
          "metadata": {},
          "execution_count": 122
        }
      ]
    },
    {
      "cell_type": "code",
      "source": [
        "# create synthetic data\n",
        "new_mom_x, new_y = balance_data(X_mom, Y, 4, update_Y=True, many=150)\n",
        "new_baby_x, _ = balance_data(X_baby, Y, 4, update_Y=False, many=150)\n",
        "new_audio_x, _ = balance_data(X_audio, Y, 4, update_Y=False, many=150)"
      ],
      "metadata": {
        "id": "zfsm8ywApwGU"
      },
      "execution_count": null,
      "outputs": []
    },
    {
      "cell_type": "code",
      "source": [
        "new_mom_x, btw_y = balance_data(new_mom_x, new_y, 3, update_Y=True, many=150)\n",
        "new_baby_x, _ = balance_data(new_baby_x, new_y, 3, update_Y=False, many=150)\n",
        "new_audio_x, _ = balance_data(new_audio_x, new_y, 3, update_Y=False, many=150)"
      ],
      "metadata": {
        "id": "SqOfZtqUZgOP"
      },
      "execution_count": 126,
      "outputs": []
    },
    {
      "cell_type": "code",
      "source": [
        "new_mom_x, btw2_y = balance_data(new_mom_x, btw_y, 2, update_Y=True, many=130)\n",
        "new_baby_x, _ = balance_data(new_baby_x, btw_y, 2, update_Y=False, many=130)\n",
        "new_audio_x, _ = balance_data(new_audio_x, btw_y, 2, update_Y=False, many=130)"
      ],
      "metadata": {
        "id": "cdE8NdNyZwmU"
      },
      "execution_count": 127,
      "outputs": []
    },
    {
      "cell_type": "code",
      "source": [
        "new_mom_x, final_y = balance_data(new_mom_x, btw2_y, 1, update_Y=True, many=95)\n",
        "new_baby_x, _ = balance_data(new_baby_x, btw2_y, 1, update_Y=False, many=95)\n",
        "new_audio_x, _ = balance_data(new_audio_x, btw2_y, 1, update_Y=False, many=95)"
      ],
      "metadata": {
        "id": "cUZF27oDaHGW"
      },
      "execution_count": 128,
      "outputs": []
    },
    {
      "cell_type": "code",
      "source": [
        "np.any(np.isnan(new_mom_x))"
      ],
      "metadata": {
        "colab": {
          "base_uri": "https://localhost:8080/"
        },
        "id": "K-z6JHdCgTor",
        "outputId": "62c55510-7d84-41a8-f18d-62c9cd3cb687"
      },
      "execution_count": 129,
      "outputs": [
        {
          "output_type": "execute_result",
          "data": {
            "text/plain": [
              "False"
            ]
          },
          "metadata": {},
          "execution_count": 129
        }
      ]
    },
    {
      "cell_type": "code",
      "source": [
        "final_y.shape"
      ],
      "metadata": {
        "colab": {
          "base_uri": "https://localhost:8080/"
        },
        "id": "FZT0qJ1dafDH",
        "outputId": "5ed8e026-a550-463d-ef6b-09f298554a6a"
      },
      "execution_count": 130,
      "outputs": [
        {
          "output_type": "execute_result",
          "data": {
            "text/plain": [
              "(798,)"
            ]
          },
          "metadata": {},
          "execution_count": 130
        }
      ]
    },
    {
      "cell_type": "code",
      "source": [
        "new_mom_x.shape"
      ],
      "metadata": {
        "colab": {
          "base_uri": "https://localhost:8080/"
        },
        "id": "yB_A2c6vaiWH",
        "outputId": "8b1f122f-03c6-4e77-e863-2acbc85b4537"
      },
      "execution_count": 131,
      "outputs": [
        {
          "output_type": "execute_result",
          "data": {
            "text/plain": [
              "(798, 180, 11)"
            ]
          },
          "metadata": {},
          "execution_count": 131
        }
      ]
    },
    {
      "cell_type": "code",
      "source": [
        "new_baby_x.shape"
      ],
      "metadata": {
        "colab": {
          "base_uri": "https://localhost:8080/"
        },
        "id": "Q6mDCTNdaj_h",
        "outputId": "11ff89b8-4b34-4d2c-b6d4-082ba6eac958"
      },
      "execution_count": 132,
      "outputs": [
        {
          "output_type": "execute_result",
          "data": {
            "text/plain": [
              "(798, 180, 11)"
            ]
          },
          "metadata": {},
          "execution_count": 132
        }
      ]
    },
    {
      "cell_type": "code",
      "source": [
        "new_audio_x.shape"
      ],
      "metadata": {
        "colab": {
          "base_uri": "https://localhost:8080/"
        },
        "id": "QDcgr4HQanzW",
        "outputId": "598658d3-a0a4-4d65-cc4a-99d54639c5c8"
      },
      "execution_count": 133,
      "outputs": [
        {
          "output_type": "execute_result",
          "data": {
            "text/plain": [
              "(798, 180, 3)"
            ]
          },
          "metadata": {},
          "execution_count": 133
        }
      ]
    },
    {
      "cell_type": "code",
      "source": [
        "# check label distribution\n",
        "unique_values, value_counts = np.unique(final_y, return_counts=True)\n",
        "# Create bar chart\n",
        "plt.bar(unique_values, value_counts)\n",
        "\n",
        "# Add labels and title\n",
        "plt.xlabel('PHQ')\n",
        "plt.ylabel('Counts')\n",
        "plt.title('PHQ Distribution')\n",
        "\n",
        "# Show the plot\n",
        "plt.show()"
      ],
      "metadata": {
        "colab": {
          "base_uri": "https://localhost:8080/",
          "height": 472
        },
        "id": "dUqRq_tiZ-s_",
        "outputId": "c7ddcd62-260f-4416-cddb-db3d8958d4b7"
      },
      "execution_count": 193,
      "outputs": [
        {
          "output_type": "display_data",
          "data": {
            "text/plain": [
              "<Figure size 640x480 with 1 Axes>"
            ],
            "image/png": "[encoded data removed]"
          },
          "metadata": {}
        }
      ]
    },
    {
      "cell_type": "code",
      "source": [
        "# get length of data\n",
        "length = len(new_mom_x)\n",
        "original_indices = list(range(length))\n",
        "# Shuffle the indices\n",
        "random.shuffle(original_indices)"
      ],
      "metadata": {
        "id": "KBbiiuWu0CRZ"
      },
      "execution_count": 135,
      "outputs": []
    },
    {
      "cell_type": "code",
      "source": [
        "# shuffle data\n",
        "X_mom = new_mom_x[original_indices]\n",
        "X_baby = new_baby_x[original_indices]\n",
        "X_audio = new_audio_x[original_indices]\n",
        "Y_array = final_y[original_indices]"
      ],
      "metadata": {
        "id": "dOR7KjjQ28x0"
      },
      "execution_count": 136,
      "outputs": []
    },
    {
      "cell_type": "code",
      "source": [
        "def normalize_data(data):\n",
        "  mean = np.nanmean(data, axis=0)\n",
        "  std_dev = np.nanstd(data, axis=0)\n",
        "  normalized_arr = (data - mean) / std_dev\n",
        "  return normalized_arr"
      ],
      "metadata": {
        "id": "YR4cElk490o2"
      },
      "execution_count": 137,
      "outputs": []
    },
    {
      "cell_type": "code",
      "source": [
        "X_mom = normalize_data(X_mom)\n",
        "X_baby = normalize_data(X_baby)\n",
        "X_audio = normalize_data(X_audio)"
      ],
      "metadata": {
        "id": "TQPkPARApXyH"
      },
      "execution_count": null,
      "outputs": []
    },
    {
      "cell_type": "code",
      "source": [
        "# save final data\n",
        "np.save('norm_mom.npy', X_mom)\n",
        "np.save('norm_baby.npy', X_baby)\n",
        "np.save('norm_audio.npy', X_audio)\n",
        "np.save('norm_y.npy', Y_array)"
      ],
      "metadata": {
        "id": "q3tpteXBaOre"
      },
      "execution_count": 139,
      "outputs": []
    },
    {
      "cell_type": "code",
      "source": [
        "type(X_baby)"
      ],
      "metadata": {
        "colab": {
          "base_uri": "https://localhost:8080/"
        },
        "id": "J3NW02Vvax-G",
        "outputId": "566fe29b-ea32-4a50-f19e-193c3ad57146"
      },
      "execution_count": 138,
      "outputs": [
        {
          "output_type": "execute_result",
          "data": {
            "text/plain": [
              "numpy.ndarray"
            ]
          },
          "metadata": {},
          "execution_count": 138
        }
      ]
    },
    {
      "cell_type": "code",
      "source": [
        "# get train index\n",
        "train_index = int(0.8  * len(X_mom))\n",
        "train_index"
      ],
      "metadata": {
        "colab": {
          "base_uri": "https://localhost:8080/"
        },
        "id": "YN8V1uXJ3wgy",
        "outputId": "e5ac8b2b-ceb4-406a-bcdf-c851c5d60725"
      },
      "execution_count": 142,
      "outputs": [
        {
          "output_type": "execute_result",
          "data": {
            "text/plain": [
              "638"
            ]
          },
          "metadata": {},
          "execution_count": 142
        }
      ]
    },
    {
      "cell_type": "code",
      "source": [
        "train_X_mom = X_mom[:train_index]\n",
        "train_X_baby = X_baby[:train_index]\n",
        "train_X_audio = X_audio[:train_index]\n",
        "train_Y = Y_array[:train_index]"
      ],
      "metadata": {
        "id": "evI6ynKvifdJ"
      },
      "execution_count": 143,
      "outputs": []
    },
    {
      "cell_type": "code",
      "source": [
        "train_X_audio.shape"
      ],
      "metadata": {
        "colab": {
          "base_uri": "https://localhost:8080/"
        },
        "id": "Q0igmKspbHCK",
        "outputId": "75c04875-e029-4e01-ccc8-0a88a5cbd41d"
      },
      "execution_count": 169,
      "outputs": [
        {
          "output_type": "execute_result",
          "data": {
            "text/plain": [
              "(638, 180, 3)"
            ]
          },
          "metadata": {},
          "execution_count": 169
        }
      ]
    },
    {
      "cell_type": "code",
      "source": [
        "# check if nan exist in data\n",
        "np.any(np.isnan(train_X_mom))"
      ],
      "metadata": {
        "colab": {
          "base_uri": "https://localhost:8080/"
        },
        "id": "Q3dtLy-cBOC5",
        "outputId": "84e20eed-d307-4a25-e69c-404887bdcda6"
      },
      "execution_count": 144,
      "outputs": [
        {
          "output_type": "execute_result",
          "data": {
            "text/plain": [
              "False"
            ]
          },
          "metadata": {},
          "execution_count": 144
        }
      ]
    },
    {
      "cell_type": "code",
      "source": [
        "def classifier_mental(input_shape=(180, 11), audio_shape=(180, 3), units=500, dropout_rate=0.5, num_classes=5):\n",
        "    mom_input = Input(shape=input_shape, name='mom_feat')\n",
        "    baby_input = Input(shape=input_shape, name='baby_feat')\n",
        "    audio_input = Input(shape=audio_shape, name='audio_feat')\n",
        "\n",
        "    # Flatten each input\n",
        "    flat_mom_input = tf.keras.layers.Flatten(name='mom_flat')(mom_input)\n",
        "    flat_baby_input = tf.keras.layers.Flatten(name='baby_flat')(baby_input)\n",
        "    flat_audio_input = tf.keras.layers.Flatten(name='audio_flat')(audio_input)\n",
        "\n",
        "    mom_output = Dense(units=2000, activation='relu', kernel_initializer='he_normal', name='mom_dense_1')(flat_mom_input)\n",
        "    mom_output = BatchNormalization(name='batch_norm_mom_1')(mom_output)\n",
        "    mom_output = Dropout(dropout_rate, name='mom_drop_1')(mom_output)\n",
        "\n",
        "    mom_output = Dense(units=1056, activation='relu', kernel_initializer='he_normal', name='mom_dense_2')(mom_output)\n",
        "    mom_output = BatchNormalization(name='batch_norm_mom_2')(mom_output)\n",
        "    mom_output = Dropout(dropout_rate, name='mom_drop_2')(mom_output)\n",
        "\n",
        "\n",
        "    baby_output = Dense(units=2000, activation='relu', kernel_initializer='he_normal', name='baby_dense_1')(flat_baby_input)\n",
        "    baby_output = BatchNormalization(name='batch_norm_baby_1')(baby_output)\n",
        "    baby_output = Dropout(dropout_rate, name='baby_drop_1')(baby_output)\n",
        "\n",
        "    baby_output = Dense(units=1056, activation='relu', kernel_initializer='he_normal', name='baby_dense_2')(baby_output)\n",
        "    baby_output = BatchNormalization(name='batch_norm_baby_2')(baby_output)\n",
        "    baby_output = Dropout(dropout_rate, name='baby_drop_2')(baby_output)\n",
        "\n",
        "    audio_output = Dense(units=512, activation='relu', kernel_initializer='he_normal', name='audio_dense_1')(flat_audio_input)\n",
        "    audio_output = BatchNormalization(name='batch_norm_audio_1')(audio_output)\n",
        "    audio_output = Dropout(dropout_rate, name='audio_drop_1')(audio_output)\n",
        "\n",
        "    audio_output = Dense(units=256, activation='relu', kernel_initializer='he_normal', name='audio_dense_2')(audio_output)\n",
        "    audio_output = BatchNormalization(name='batch_norm_audio_2')(audio_output)\n",
        "    audio_output = Dropout(dropout_rate, name='audio_drop_2')(audio_output)\n",
        "\n",
        "    concatenated_inputs = concatenate([mom_output, baby_output, audio_output], name='concat_all')\n",
        "\n",
        "    output = Dense(units=1600, activation='relu', kernel_initializer='he_normal', name='all_dense_1')(concatenated_inputs)\n",
        "    output = BatchNormalization(name='batch_norm_all_1')(output)\n",
        "    output = Dropout(dropout_rate, name='drop_all_1')(output)\n",
        "\n",
        "    output = Dense(units=512, activation='relu', kernel_initializer='he_normal', name='all_dense_2')(output)\n",
        "    output = BatchNormalization(name='batch_norm_all_2')(output)\n",
        "    output = Dropout(dropout_rate, name='drop_all_2')(output)\n",
        "\n",
        "    # Output layer\n",
        "    output = Dense(units=num_classes, name='pred')(output)\n",
        "\n",
        "    # Define the model\n",
        "    model = Model(inputs=[mom_input, baby_input, audio_input], outputs=output)\n",
        "\n",
        "    return model\n"
      ],
      "metadata": {
        "id": "VdERH2AXBEW_"
      },
      "execution_count": 160,
      "outputs": []
    },
    {
      "cell_type": "code",
      "source": [
        "model = classifier_mental()\n",
        "model.summary()"
      ],
      "metadata": {
        "colab": {
          "base_uri": "https://localhost:8080/"
        },
        "id": "5NaYFktGc68t",
        "outputId": "f5940faa-16f6-406f-b9c3-0beff4b9aeae"
      },
      "execution_count": 182,
      "outputs": [
        {
          "output_type": "stream",
          "name": "stdout",
          "text": [
            "Model: \"model_5\"\n",
            "__________________________________________________________________________________________________\n",
            " Layer (type)                Output Shape                 Param #   Connected to                  \n",
            "==================================================================================================\n",
            " mom_feat (InputLayer)       [(None, 180, 11)]            0         []                            \n",
            "                                                                                                  \n",
            " baby_feat (InputLayer)      [(None, 180, 11)]            0         []                            \n",
            "                                                                                                  \n",
            " audio_feat (InputLayer)     [(None, 180, 3)]             0         []                            \n",
            "                                                                                                  \n",
            " mom_flat (Flatten)          (None, 1980)                 0         ['mom_feat[0][0]']            \n",
            "                                                                                                  \n",
            " baby_flat (Flatten)         (None, 1980)                 0         ['baby_feat[0][0]']           \n",
            "                                                                                                  \n",
            " audio_flat (Flatten)        (None, 540)                  0         ['audio_feat[0][0]']          \n",
            "                                                                                                  \n",
            " mom_dense_1 (Dense)         (None, 2000)                 3962000   ['mom_flat[0][0]']            \n",
            "                                                                                                  \n",
            " baby_dense_1 (Dense)        (None, 2000)                 3962000   ['baby_flat[0][0]']           \n",
            "                                                                                                  \n",
            " audio_dense_1 (Dense)       (None, 512)                  276992    ['audio_flat[0][0]']          \n",
            "                                                                                                  \n",
            " batch_norm_mom_1 (BatchNor  (None, 2000)                 8000      ['mom_dense_1[0][0]']         \n",
            " malization)                                                                                      \n",
            "                                                                                                  \n",
            " batch_norm_baby_1 (BatchNo  (None, 2000)                 8000      ['baby_dense_1[0][0]']        \n",
            " rmalization)                                                                                     \n",
            "                                                                                                  \n",
            " batch_norm_audio_1 (BatchN  (None, 512)                  2048      ['audio_dense_1[0][0]']       \n",
            " ormalization)                                                                                    \n",
            "                                                                                                  \n",
            " mom_drop_1 (Dropout)        (None, 2000)                 0         ['batch_norm_mom_1[0][0]']    \n",
            "                                                                                                  \n",
            " baby_drop_1 (Dropout)       (None, 2000)                 0         ['batch_norm_baby_1[0][0]']   \n",
            "                                                                                                  \n",
            " audio_drop_1 (Dropout)      (None, 512)                  0         ['batch_norm_audio_1[0][0]']  \n",
            "                                                                                                  \n",
            " mom_dense_2 (Dense)         (None, 1056)                 2113056   ['mom_drop_1[0][0]']          \n",
            "                                                                                                  \n",
            " baby_dense_2 (Dense)        (None, 1056)                 2113056   ['baby_drop_1[0][0]']         \n",
            "                                                                                                  \n",
            " audio_dense_2 (Dense)       (None, 256)                  131328    ['audio_drop_1[0][0]']        \n",
            "                                                                                                  \n",
            " batch_norm_mom_2 (BatchNor  (None, 1056)                 4224      ['mom_dense_2[0][0]']         \n",
            " malization)                                                                                      \n",
            "                                                                                                  \n",
            " batch_norm_baby_2 (BatchNo  (None, 1056)                 4224      ['baby_dense_2[0][0]']        \n",
            " rmalization)                                                                                     \n",
            "                                                                                                  \n",
            " batch_norm_audio_2 (BatchN  (None, 256)                  1024      ['audio_dense_2[0][0]']       \n",
            " ormalization)                                                                                    \n",
            "                                                                                                  \n",
            " mom_drop_2 (Dropout)        (None, 1056)                 0         ['batch_norm_mom_2[0][0]']    \n",
            "                                                                                                  \n",
            " baby_drop_2 (Dropout)       (None, 1056)                 0         ['batch_norm_baby_2[0][0]']   \n",
            "                                                                                                  \n",
            " audio_drop_2 (Dropout)      (None, 256)                  0         ['batch_norm_audio_2[0][0]']  \n",
            "                                                                                                  \n",
            " concat_all (Concatenate)    (None, 2368)                 0         ['mom_drop_2[0][0]',          \n",
            "                                                                     'baby_drop_2[0][0]',         \n",
            "                                                                     'audio_drop_2[0][0]']        \n",
            "                                                                                                  \n",
            " all_dense_1 (Dense)         (None, 1600)                 3790400   ['concat_all[0][0]']          \n",
            "                                                                                                  \n",
            " batch_norm_all_1 (BatchNor  (None, 1600)                 6400      ['all_dense_1[0][0]']         \n",
            " malization)                                                                                      \n",
            "                                                                                                  \n",
            " drop_all_1 (Dropout)        (None, 1600)                 0         ['batch_norm_all_1[0][0]']    \n",
            "                                                                                                  \n",
            " all_dense_2 (Dense)         (None, 512)                  819712    ['drop_all_1[0][0]']          \n",
            "                                                                                                  \n",
            " batch_norm_all_2 (BatchNor  (None, 512)                  2048      ['all_dense_2[0][0]']         \n",
            " malization)                                                                                      \n",
            "                                                                                                  \n",
            " drop_all_2 (Dropout)        (None, 512)                  0         ['batch_norm_all_2[0][0]']    \n",
            "                                                                                                  \n",
            " pred (Dense)                (None, 5)                    2565      ['drop_all_2[0][0]']          \n",
            "                                                                                                  \n",
            "==================================================================================================\n",
            "Total params: 17207077 (65.64 MB)\n",
            "Trainable params: 17189093 (65.57 MB)\n",
            "Non-trainable params: 17984 (70.25 KB)\n",
            "__________________________________________________________________________________________________\n"
          ]
        }
      ]
    },
    {
      "cell_type": "code",
      "source": [
        "optimizer = tf.keras.optimizers.Adam(learning_rate=0.001)\n",
        "model.compile(optimizer=optimizer, metrics=['accuracy'], loss=tf.keras.losses.SparseCategoricalCrossentropy(from_logits=True))\n",
        "history = model.fit([train_X_mom, train_X_baby, train_X_audio], train_Y, epochs=10, batch_size=64, validation_split=0.2)"
      ],
      "metadata": {
        "colab": {
          "base_uri": "https://localhost:8080/"
        },
        "id": "pdkoXalRdDBo",
        "outputId": "e07e4148-abf7-4b6b-b433-4c3401bdde19"
      },
      "execution_count": 183,
      "outputs": [
        {
          "output_type": "stream",
          "name": "stdout",
          "text": [
            "Epoch 1/10\n",
            "8/8 [==============================] - 7s 346ms/step - loss: 1.6126 - accuracy: 0.5059 - val_loss: 0.7876 - val_accuracy: 0.7734\n",
            "Epoch 2/10\n",
            "8/8 [==============================] - 2s 282ms/step - loss: 0.5766 - accuracy: 0.8000 - val_loss: 0.9886 - val_accuracy: 0.8047\n",
            "Epoch 3/10\n",
            "8/8 [==============================] - 3s 387ms/step - loss: 0.2746 - accuracy: 0.9059 - val_loss: 0.5644 - val_accuracy: 0.8672\n",
            "Epoch 4/10\n",
            "8/8 [==============================] - 3s 364ms/step - loss: 0.1767 - accuracy: 0.9431 - val_loss: 0.5157 - val_accuracy: 0.9062\n",
            "Epoch 5/10\n",
            "8/8 [==============================] - 2s 277ms/step - loss: 0.0784 - accuracy: 0.9667 - val_loss: 0.4049 - val_accuracy: 0.9453\n",
            "Epoch 6/10\n",
            "8/8 [==============================] - 2s 277ms/step - loss: 0.0713 - accuracy: 0.9745 - val_loss: 0.3102 - val_accuracy: 0.9219\n",
            "Epoch 7/10\n",
            "8/8 [==============================] - 2s 282ms/step - loss: 0.0641 - accuracy: 0.9843 - val_loss: 0.3446 - val_accuracy: 0.9375\n",
            "Epoch 8/10\n",
            "8/8 [==============================] - 2s 270ms/step - loss: 0.0368 - accuracy: 0.9843 - val_loss: 0.8073 - val_accuracy: 0.9453\n",
            "Epoch 9/10\n",
            "8/8 [==============================] - 3s 387ms/step - loss: 0.0349 - accuracy: 0.9922 - val_loss: 0.8114 - val_accuracy: 0.9297\n",
            "Epoch 10/10\n",
            "8/8 [==============================] - 3s 339ms/step - loss: 0.0379 - accuracy: 0.9824 - val_loss: 0.8265 - val_accuracy: 0.9453\n"
          ]
        }
      ]
    },
    {
      "cell_type": "code",
      "source": [
        "tf.keras.utils.plot_model(model, 'mental_pred.png', show_shapes=False, rankdir='LR')"
      ],
      "metadata": {
        "colab": {
          "base_uri": "https://localhost:8080/",
          "height": 109
        },
        "id": "TF26J07kLqVq",
        "outputId": "572c3ec5-b254-4c33-ab1e-614e53c767e2"
      },
      "execution_count": 174,
      "outputs": [
        {
          "output_type": "execute_result",
          "data": {
            "image/png": "[encoded data removed]",
            "text/plain": [
              "<IPython.core.display.Image object>"
            ]
          },
          "metadata": {},
          "execution_count": 174
        }
      ]
    },
    {
      "cell_type": "code",
      "source": [
        "# check for overfitting\n",
        "plt.plot(history.history['accuracy'])\n",
        "plt.plot(history.history['val_accuracy'])\n",
        "plt.title('Model accuracy')\n",
        "plt.ylabel('Accuracy')\n",
        "plt.xlabel('Epoch')\n",
        "plt.legend(['Train', 'Validation'], loc='upper left')\n",
        "plt.show()"
      ],
      "metadata": {
        "colab": {
          "base_uri": "https://localhost:8080/",
          "height": 472
        },
        "id": "qvoGBAwQoJFo",
        "outputId": "5e20efdb-71a3-416e-d449-5cac2f7e94a7"
      },
      "execution_count": 184,
      "outputs": [
        {
          "output_type": "display_data",
          "data": {
            "text/plain": [
              "<Figure size 640x480 with 1 Axes>"
            ],
            "image/png": "[encoded data removed]"
          },
          "metadata": {}
        }
      ]
    },
    {
      "cell_type": "code",
      "source": [
        "test_X_mom = X_mom[train_index:]\n",
        "test_X_baby = X_baby[train_index:]\n",
        "test_X_audio = X_audio[train_index:]\n",
        "test_Y = Y_array[train_index:]"
      ],
      "metadata": {
        "id": "PvLJvja6AOHN"
      },
      "execution_count": 148,
      "outputs": []
    },
    {
      "cell_type": "code",
      "source": [
        "loss, accuracy = model.evaluate([test_X_mom, test_X_baby, test_X_audio], test_Y)"
      ],
      "metadata": {
        "colab": {
          "base_uri": "https://localhost:8080/"
        },
        "id": "D4DsQ-nIAZIp",
        "outputId": "745b0a40-a63f-448a-c61c-1427879fb975"
      },
      "execution_count": 185,
      "outputs": [
        {
          "output_type": "stream",
          "name": "stdout",
          "text": [
            "5/5 [==============================] - 1s 60ms/step - loss: 0.2687 - accuracy: 0.9625\n"
          ]
        }
      ]
    },
    {
      "cell_type": "code",
      "source": [
        "y_pred = model.predict([test_X_mom, test_X_baby, test_X_audio])"
      ],
      "metadata": {
        "colab": {
          "base_uri": "https://localhost:8080/"
        },
        "id": "KyVWs5BLdjNO",
        "outputId": "8e2b6dac-4925-4f4f-bfdf-4597fef3a107"
      },
      "execution_count": 186,
      "outputs": [
        {
          "output_type": "stream",
          "name": "stdout",
          "text": [
            "5/5 [==============================] - 0s 35ms/step\n"
          ]
        }
      ]
    },
    {
      "cell_type": "code",
      "source": [
        "cm = confusion_matrix(test_Y, np.argmax(y_pred, axis=1))\n",
        "# plot confusion matrix\n",
        "plt.figure(figsize=(8, 6))\n",
        "sns.heatmap(cm, annot=True, fmt='d', cmap='Blues')\n",
        "plt.xlabel('Predicted')\n",
        "plt.ylabel('Actual')\n",
        "plt.title('Confusion Matrix')\n",
        "plt.show()\n"
      ],
      "metadata": {
        "colab": {
          "base_uri": "https://localhost:8080/",
          "height": 564
        },
        "id": "66QEBVgdUtvu",
        "outputId": "b34f617e-4040-4def-e25e-37650a93f1b7"
      },
      "execution_count": 187,
      "outputs": [
        {
          "output_type": "display_data",
          "data": {
            "text/plain": [
              "<Figure size 800x600 with 2 Axes>"
            ],
            "image/png": "[encoded data removed]"
          },
          "metadata": {}
        }
      ]
    },
    {
      "cell_type": "code",
      "source": [
        "# save model\n",
        "model.save('mental_pred_final')"
      ],
      "metadata": {
        "id": "DJ0ks2s2lyyv"
      },
      "execution_count": 189,
      "outputs": []
    },
    {
      "cell_type": "code",
      "source": [
        "! tar -czvf mental_pred_final.tar.gz mental_pred_final"
      ],
      "metadata": {
        "colab": {
          "base_uri": "https://localhost:8080/"
        },
        "id": "AdpAAJ90l-mM",
        "outputId": "6915024f-5d48-4fee-b08a-6fcd233c26b3"
      },
      "execution_count": 190,
      "outputs": [
        {
          "output_type": "stream",
          "name": "stdout",
          "text": [
            "mental_pred_final/\n",
            "mental_pred_final/assets/\n",
            "mental_pred_final/variables/\n",
            "mental_pred_final/variables/variables.data-00000-of-00001\n",
            "mental_pred_final/variables/variables.index\n",
            "mental_pred_final/saved_model.pb\n",
            "mental_pred_final/fingerprint.pb\n",
            "mental_pred_final/keras_metadata.pb\n"
          ]
        }
      ]
    }
  ]
}